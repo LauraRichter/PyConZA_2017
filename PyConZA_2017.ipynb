{
 "cells": [
  {
   "cell_type": "code",
   "execution_count": 1,
   "metadata": {
    "slideshow": {
     "slide_type": "skip"
    }
   },
   "outputs": [],
   "source": [
    "import pandas as pd\n",
    "pd.set_option('display.max_rows', 20)"
   ]
  },
  {
   "cell_type": "markdown",
   "metadata": {
    "slideshow": {
     "slide_type": "skip"
    }
   },
   "source": [
    "### Notes:\n",
    "\n",
    "The github repo https://github.com/LauraRichter/PyConZA_2017 contains:\n",
    "\n",
    "* This noteook\n",
    "* An annotated version of this notebook\n",
    "* A notebook to create simulated example data pycon_example_data.csv"
   ]
  },
  {
   "cell_type": "markdown",
   "metadata": {
    "slideshow": {
     "slide_type": "slide"
    }
   },
   "source": [
    "<h1><center>Getting the most out of your pandas</center></h1>\n",
    "<br>\n",
    "<h2><center>\n",
    "    Laura Richter<br><br>\n",
    "    Prodigy Finance\n",
    "</center></h2>\n",
    "<br>\n",
    "<center>\n",
    "![](ProdigyFinance_StackedLogo_small.png)\n",
    "</center>"
   ]
  },
  {
   "cell_type": "markdown",
   "metadata": {
    "slideshow": {
     "slide_type": "slide"
    }
   },
   "source": [
    "<h2><center>Pandas is the fastest-growing Python-related tag on stack overflow! *</center></h2>\n",
    "\n",
    "<br>\n",
    "<br>\n",
    "<br>\n",
    "<br>\n",
    "<br>\n",
    "\n",
    "<div style=\"text-align: right\"> [*] https://stackoverflow.blog/2017/09/14/python-growing-quickly </div>\n"
   ]
  },
  {
   "cell_type": "markdown",
   "metadata": {
    "slideshow": {
     "slide_type": "slide"
    }
   },
   "source": [
    " <h1><center>\n",
    " &bull; Importing & Exporting\n",
    " &bull; Joining\n",
    " &bull; Grouping & Aggregating \n",
    " &bull; <br>\n",
    " &bull; Transforming \n",
    " &bull; Handing missing values \n",
    " &bull; Boolean / conditional indexing\n",
    " &bull; <br>\n",
    " &bull; Built in maths and stats \n",
    " &bull; Time series\n",
    " &bull; Visualisation\n",
    " &bull;\n",
    " </center></h1>"
   ]
  },
  {
   "cell_type": "markdown",
   "metadata": {
    "slideshow": {
     "slide_type": "slide"
    }
   },
   "source": [
    "<h1><center>All things to all people</center></h1>\n",
    "\n",
    "<br>\n",
    "\n",
    "<h1><center>(Relatively) Low barrier to entry</center></h1>"
   ]
  },
  {
   "cell_type": "markdown",
   "metadata": {
    "slideshow": {
     "slide_type": "slide"
    }
   },
   "source": [
    "---\n",
    "<h2>Resources</h2>\n",
    "\n",
    "Pandas and Dask from the Inside, Stephen Simmons <br>\n",
    "Berlin, PyData 2017 <br>\n",
    "https://github.com/stevesimmons/pydata-berlin2017-pandas-and-dask-from-the-inside <br>\n",
    "https://www.youtube.com/watch?v=YGk09nK_xnM\n",
    "\n",
    "<br>\n",
    "No More Sad Pandas: Optimizing Pandas Code for Speed and Efficiency, Sofia Heisler <br>\n",
    "Portland Oregon, PyCon 2017 <br>\n",
    "https://github.com/sversh/pycon2017-optimizing-pandas <br>\n",
    "https://www.youtube.com/watch?v=HN5d490_KKk <br>\n",
    "https://engineering.upside.com/a-beginners-guide-to-optimizing-pandas-code-for-speed-c09ef2c6a4d6\n"
   ]
  },
  {
   "cell_type": "markdown",
   "metadata": {
    "slideshow": {
     "slide_type": "slide"
    }
   },
   "source": [
    "---\n",
    "<h2>Code!</h2>\n",
    "\n",
    "<h4>First set up imports and profiling</h4>"
   ]
  },
  {
   "cell_type": "code",
   "execution_count": 2,
   "metadata": {
    "slideshow": {
     "slide_type": "-"
    }
   },
   "outputs": [],
   "source": [
    "import pandas as pd\n",
    "import numpy as np\n",
    "\n",
    "%load_ext memory_profiler\n",
    "%load_ext line_profiler"
   ]
  },
  {
   "cell_type": "code",
   "execution_count": 3,
   "metadata": {},
   "outputs": [
    {
     "name": "stdout",
     "output_type": "stream",
     "text": [
      "hello pycon!\n"
     ]
    }
   ],
   "source": [
    "print('hello pycon!')"
   ]
  },
  {
   "cell_type": "markdown",
   "metadata": {
    "slideshow": {
     "slide_type": "slide"
    }
   },
   "source": [
    "---\n",
    "<h2>NumPy</h2>"
   ]
  },
  {
   "cell_type": "markdown",
   "metadata": {},
   "source": [
    "<h2>&bull; Memory backend for pandas</h2>\n",
    "\n",
    "<h2>&bull; Computational backend for pandas</h2>"
   ]
  },
  {
   "cell_type": "markdown",
   "metadata": {
    "slideshow": {
     "slide_type": "slide"
    }
   },
   "source": [
    "---\n",
    "<h3>Numpy for memory</h3>"
   ]
  },
  {
   "cell_type": "code",
   "execution_count": 4,
   "metadata": {},
   "outputs": [],
   "source": [
    "import sys\n",
    "gso = sys.getsizeof"
   ]
  },
  {
   "cell_type": "code",
   "execution_count": 5,
   "metadata": {},
   "outputs": [
    {
     "name": "stdout",
     "output_type": "stream",
     "text": [
      "peak memory: 128.96 MiB, increment: 38.19 MiB\n",
      "peak memory: 132.87 MiB, increment: 3.88 MiB\n"
     ]
    }
   ],
   "source": [
    "%memit -r 1 -i 0 lst = list(range(987654))\n",
    "%memit -r 1 -i 0 arr = np.arange(987654, dtype=np.int32)"
   ]
  },
  {
   "cell_type": "code",
   "execution_count": 6,
   "metadata": {},
   "outputs": [
    {
     "name": "stdout",
     "output_type": "stream",
     "text": [
      "List:\n",
      "24 B\n",
      "64 B\n",
      "72 B\n",
      "8.48 MiB\n",
      "34.85 MiB\n",
      "\n",
      "Numpy array:\n",
      "3.77 MiB\n"
     ]
    }
   ],
   "source": [
    "# size in bytes / MiB:\n",
    "\n",
    "print('List:')\n",
    "print(gso(0), 'B')\n",
    "print(gso([]), 'B')\n",
    "print(gso([0]), 'B')\n",
    "print('{:.2f} MiB'.format(gso(lst)/(2**20)))\n",
    "full_size = gso(lst) + sum([gso(x) for x in lst])\n",
    "print('{:.2f} MiB'.format(full_size/(2**20)))\n",
    "\n",
    "print()\n",
    "print('Numpy array:')\n",
    "print('{:.2f} MiB'.format(gso(arr)/(2**20)))"
   ]
  },
  {
   "cell_type": "markdown",
   "metadata": {
    "slideshow": {
     "slide_type": "slide"
    }
   },
   "source": [
    "---\n",
    "<h3>Numpy for speed</h3>"
   ]
  },
  {
   "cell_type": "code",
   "execution_count": 7,
   "metadata": {
    "slideshow": {
     "slide_type": "-"
    }
   },
   "outputs": [
    {
     "name": "stdout",
     "output_type": "stream",
     "text": [
      "86.6 µs ± 3.92 µs per loop (mean ± std. dev. of 7 runs, 500 loops each)\n"
     ]
    }
   ],
   "source": [
    "lst = range(5555)\n",
    "%timeit -n 500 sum(lst)"
   ]
  },
  {
   "cell_type": "code",
   "execution_count": 8,
   "metadata": {
    "slideshow": {
     "slide_type": "-"
    }
   },
   "outputs": [
    {
     "name": "stdout",
     "output_type": "stream",
     "text": [
      "6.28 µs ± 1.19 µs per loop (mean ± std. dev. of 7 runs, 500 loops each)\n",
      "5.7 µs ± 830 ns per loop (mean ± std. dev. of 7 runs, 500 loops each)\n"
     ]
    }
   ],
   "source": [
    "arr = np.arange(5555)\n",
    "%timeit -n 500 np.sum(arr)\n",
    "%timeit -n 500 arr.sum()"
   ]
  },
  {
   "cell_type": "code",
   "execution_count": 9,
   "metadata": {},
   "outputs": [
    {
     "name": "stdout",
     "output_type": "stream",
     "text": [
      "286 µs ± 10.3 µs per loop (mean ± std. dev. of 7 runs, 500 loops each)\n",
      "2.63 µs ± 84.7 ns per loop (mean ± std. dev. of 7 runs, 500 loops each)\n"
     ]
    }
   ],
   "source": [
    "%timeit -n 500 [l+2 for l in lst]\n",
    "%timeit -n 500 arr + 2"
   ]
  },
  {
   "cell_type": "markdown",
   "metadata": {
    "slideshow": {
     "slide_type": "slide"
    }
   },
   "source": [
    "---\n",
    "<h2>Pandas data structures: The DataFrame</h2>"
   ]
  },
  {
   "cell_type": "code",
   "execution_count": 10,
   "metadata": {
    "slideshow": {
     "slide_type": "skip"
    }
   },
   "outputs": [],
   "source": [
    "col1 = np.arange(6)\n",
    "col2 = np.arange(4.5, 10.5, 1.0)\n",
    "col3 = 'a,b,c,d,e,f'.split(',')\n",
    "col4 = 'one,two,three,four,five,six'.split(',')\n",
    "col5 = np.arange(45, 51)\n",
    "col6 = [22.3, 98.3, 52.0, 7.6, 43.9, 10.1]\n",
    "col7 = np.arange(62, 68, 1.0) \n",
    "indx = ['r'+str(i) for i in range(6)]\n",
    "\n",
    "example_df = pd.DataFrame(col1, columns=['col1'], index=indx)\n",
    "example_df['col2'] = col2\n",
    "example_df['col3'] = col3\n",
    "example_df['col4'] = col4\n",
    "example_df['col5'] = col5\n",
    "example_df['col6'] = col6\n",
    "example_df['col7'] = col7\n",
    "\n",
    "# dictionary of column colors\n",
    "coldict = {\n",
    "    'col1': '#c5a3ff',\n",
    "    'col5': '#c5a3ff',\n",
    "    'col2': '#dbffd6',\n",
    "    'col6': '#dbffd6',\n",
    "    'col7': '#dbffd6',\n",
    "    'col3': '#ffcbc1',\n",
    "    'col4': '#ffcbc1',\n",
    "}\n",
    "\n",
    "def highlight_cols(s, coldict):\n",
    "    if s.name in coldict.keys():\n",
    "        return ['background-color: {}'.format(coldict[s.name])] * len(s)\n",
    "    return [''] * len(s)"
   ]
  },
  {
   "cell_type": "code",
   "execution_count": 11,
   "metadata": {
    "slideshow": {
     "slide_type": "-"
    }
   },
   "outputs": [
    {
     "data": {
      "text/html": [
       "<style  type=\"text/css\" >\n",
       "    #T_aaff988c_ac63_11e7_b1e4_02426c849530row0_col0 {\n",
       "            background-color:  #c5a3ff;\n",
       "        }    #T_aaff988c_ac63_11e7_b1e4_02426c849530row0_col1 {\n",
       "            background-color:  #dbffd6;\n",
       "        }    #T_aaff988c_ac63_11e7_b1e4_02426c849530row0_col2 {\n",
       "            background-color:  #ffcbc1;\n",
       "        }    #T_aaff988c_ac63_11e7_b1e4_02426c849530row0_col3 {\n",
       "            background-color:  #ffcbc1;\n",
       "        }    #T_aaff988c_ac63_11e7_b1e4_02426c849530row0_col4 {\n",
       "            background-color:  #c5a3ff;\n",
       "        }    #T_aaff988c_ac63_11e7_b1e4_02426c849530row0_col5 {\n",
       "            background-color:  #dbffd6;\n",
       "        }    #T_aaff988c_ac63_11e7_b1e4_02426c849530row0_col6 {\n",
       "            background-color:  #dbffd6;\n",
       "        }    #T_aaff988c_ac63_11e7_b1e4_02426c849530row1_col0 {\n",
       "            background-color:  #c5a3ff;\n",
       "        }    #T_aaff988c_ac63_11e7_b1e4_02426c849530row1_col1 {\n",
       "            background-color:  #dbffd6;\n",
       "        }    #T_aaff988c_ac63_11e7_b1e4_02426c849530row1_col2 {\n",
       "            background-color:  #ffcbc1;\n",
       "        }    #T_aaff988c_ac63_11e7_b1e4_02426c849530row1_col3 {\n",
       "            background-color:  #ffcbc1;\n",
       "        }    #T_aaff988c_ac63_11e7_b1e4_02426c849530row1_col4 {\n",
       "            background-color:  #c5a3ff;\n",
       "        }    #T_aaff988c_ac63_11e7_b1e4_02426c849530row1_col5 {\n",
       "            background-color:  #dbffd6;\n",
       "        }    #T_aaff988c_ac63_11e7_b1e4_02426c849530row1_col6 {\n",
       "            background-color:  #dbffd6;\n",
       "        }    #T_aaff988c_ac63_11e7_b1e4_02426c849530row2_col0 {\n",
       "            background-color:  #c5a3ff;\n",
       "        }    #T_aaff988c_ac63_11e7_b1e4_02426c849530row2_col1 {\n",
       "            background-color:  #dbffd6;\n",
       "        }    #T_aaff988c_ac63_11e7_b1e4_02426c849530row2_col2 {\n",
       "            background-color:  #ffcbc1;\n",
       "        }    #T_aaff988c_ac63_11e7_b1e4_02426c849530row2_col3 {\n",
       "            background-color:  #ffcbc1;\n",
       "        }    #T_aaff988c_ac63_11e7_b1e4_02426c849530row2_col4 {\n",
       "            background-color:  #c5a3ff;\n",
       "        }    #T_aaff988c_ac63_11e7_b1e4_02426c849530row2_col5 {\n",
       "            background-color:  #dbffd6;\n",
       "        }    #T_aaff988c_ac63_11e7_b1e4_02426c849530row2_col6 {\n",
       "            background-color:  #dbffd6;\n",
       "        }    #T_aaff988c_ac63_11e7_b1e4_02426c849530row3_col0 {\n",
       "            background-color:  #c5a3ff;\n",
       "        }    #T_aaff988c_ac63_11e7_b1e4_02426c849530row3_col1 {\n",
       "            background-color:  #dbffd6;\n",
       "        }    #T_aaff988c_ac63_11e7_b1e4_02426c849530row3_col2 {\n",
       "            background-color:  #ffcbc1;\n",
       "        }    #T_aaff988c_ac63_11e7_b1e4_02426c849530row3_col3 {\n",
       "            background-color:  #ffcbc1;\n",
       "        }    #T_aaff988c_ac63_11e7_b1e4_02426c849530row3_col4 {\n",
       "            background-color:  #c5a3ff;\n",
       "        }    #T_aaff988c_ac63_11e7_b1e4_02426c849530row3_col5 {\n",
       "            background-color:  #dbffd6;\n",
       "        }    #T_aaff988c_ac63_11e7_b1e4_02426c849530row3_col6 {\n",
       "            background-color:  #dbffd6;\n",
       "        }    #T_aaff988c_ac63_11e7_b1e4_02426c849530row4_col0 {\n",
       "            background-color:  #c5a3ff;\n",
       "        }    #T_aaff988c_ac63_11e7_b1e4_02426c849530row4_col1 {\n",
       "            background-color:  #dbffd6;\n",
       "        }    #T_aaff988c_ac63_11e7_b1e4_02426c849530row4_col2 {\n",
       "            background-color:  #ffcbc1;\n",
       "        }    #T_aaff988c_ac63_11e7_b1e4_02426c849530row4_col3 {\n",
       "            background-color:  #ffcbc1;\n",
       "        }    #T_aaff988c_ac63_11e7_b1e4_02426c849530row4_col4 {\n",
       "            background-color:  #c5a3ff;\n",
       "        }    #T_aaff988c_ac63_11e7_b1e4_02426c849530row4_col5 {\n",
       "            background-color:  #dbffd6;\n",
       "        }    #T_aaff988c_ac63_11e7_b1e4_02426c849530row4_col6 {\n",
       "            background-color:  #dbffd6;\n",
       "        }    #T_aaff988c_ac63_11e7_b1e4_02426c849530row5_col0 {\n",
       "            background-color:  #c5a3ff;\n",
       "        }    #T_aaff988c_ac63_11e7_b1e4_02426c849530row5_col1 {\n",
       "            background-color:  #dbffd6;\n",
       "        }    #T_aaff988c_ac63_11e7_b1e4_02426c849530row5_col2 {\n",
       "            background-color:  #ffcbc1;\n",
       "        }    #T_aaff988c_ac63_11e7_b1e4_02426c849530row5_col3 {\n",
       "            background-color:  #ffcbc1;\n",
       "        }    #T_aaff988c_ac63_11e7_b1e4_02426c849530row5_col4 {\n",
       "            background-color:  #c5a3ff;\n",
       "        }    #T_aaff988c_ac63_11e7_b1e4_02426c849530row5_col5 {\n",
       "            background-color:  #dbffd6;\n",
       "        }    #T_aaff988c_ac63_11e7_b1e4_02426c849530row5_col6 {\n",
       "            background-color:  #dbffd6;\n",
       "        }</style>  \n",
       "<table id=\"T_aaff988c_ac63_11e7_b1e4_02426c849530\" > \n",
       "<thead>    <tr> \n",
       "        <th class=\"blank level0\" ></th> \n",
       "        <th class=\"col_heading level0 col0\" >col1</th> \n",
       "        <th class=\"col_heading level0 col1\" >col2</th> \n",
       "        <th class=\"col_heading level0 col2\" >col3</th> \n",
       "        <th class=\"col_heading level0 col3\" >col4</th> \n",
       "        <th class=\"col_heading level0 col4\" >col5</th> \n",
       "        <th class=\"col_heading level0 col5\" >col6</th> \n",
       "        <th class=\"col_heading level0 col6\" >col7</th> \n",
       "    </tr></thead> \n",
       "<tbody>    <tr> \n",
       "        <th id=\"T_aaff988c_ac63_11e7_b1e4_02426c849530level0_row0\" class=\"row_heading level0 row0\" >r0</th> \n",
       "        <td id=\"T_aaff988c_ac63_11e7_b1e4_02426c849530row0_col0\" class=\"data row0 col0\" >0</td> \n",
       "        <td id=\"T_aaff988c_ac63_11e7_b1e4_02426c849530row0_col1\" class=\"data row0 col1\" >4.5</td> \n",
       "        <td id=\"T_aaff988c_ac63_11e7_b1e4_02426c849530row0_col2\" class=\"data row0 col2\" >a</td> \n",
       "        <td id=\"T_aaff988c_ac63_11e7_b1e4_02426c849530row0_col3\" class=\"data row0 col3\" >one</td> \n",
       "        <td id=\"T_aaff988c_ac63_11e7_b1e4_02426c849530row0_col4\" class=\"data row0 col4\" >45</td> \n",
       "        <td id=\"T_aaff988c_ac63_11e7_b1e4_02426c849530row0_col5\" class=\"data row0 col5\" >22.3</td> \n",
       "        <td id=\"T_aaff988c_ac63_11e7_b1e4_02426c849530row0_col6\" class=\"data row0 col6\" >62</td> \n",
       "    </tr>    <tr> \n",
       "        <th id=\"T_aaff988c_ac63_11e7_b1e4_02426c849530level0_row1\" class=\"row_heading level0 row1\" >r1</th> \n",
       "        <td id=\"T_aaff988c_ac63_11e7_b1e4_02426c849530row1_col0\" class=\"data row1 col0\" >1</td> \n",
       "        <td id=\"T_aaff988c_ac63_11e7_b1e4_02426c849530row1_col1\" class=\"data row1 col1\" >5.5</td> \n",
       "        <td id=\"T_aaff988c_ac63_11e7_b1e4_02426c849530row1_col2\" class=\"data row1 col2\" >b</td> \n",
       "        <td id=\"T_aaff988c_ac63_11e7_b1e4_02426c849530row1_col3\" class=\"data row1 col3\" >two</td> \n",
       "        <td id=\"T_aaff988c_ac63_11e7_b1e4_02426c849530row1_col4\" class=\"data row1 col4\" >46</td> \n",
       "        <td id=\"T_aaff988c_ac63_11e7_b1e4_02426c849530row1_col5\" class=\"data row1 col5\" >98.3</td> \n",
       "        <td id=\"T_aaff988c_ac63_11e7_b1e4_02426c849530row1_col6\" class=\"data row1 col6\" >63</td> \n",
       "    </tr>    <tr> \n",
       "        <th id=\"T_aaff988c_ac63_11e7_b1e4_02426c849530level0_row2\" class=\"row_heading level0 row2\" >r2</th> \n",
       "        <td id=\"T_aaff988c_ac63_11e7_b1e4_02426c849530row2_col0\" class=\"data row2 col0\" >2</td> \n",
       "        <td id=\"T_aaff988c_ac63_11e7_b1e4_02426c849530row2_col1\" class=\"data row2 col1\" >6.5</td> \n",
       "        <td id=\"T_aaff988c_ac63_11e7_b1e4_02426c849530row2_col2\" class=\"data row2 col2\" >c</td> \n",
       "        <td id=\"T_aaff988c_ac63_11e7_b1e4_02426c849530row2_col3\" class=\"data row2 col3\" >three</td> \n",
       "        <td id=\"T_aaff988c_ac63_11e7_b1e4_02426c849530row2_col4\" class=\"data row2 col4\" >47</td> \n",
       "        <td id=\"T_aaff988c_ac63_11e7_b1e4_02426c849530row2_col5\" class=\"data row2 col5\" >52</td> \n",
       "        <td id=\"T_aaff988c_ac63_11e7_b1e4_02426c849530row2_col6\" class=\"data row2 col6\" >64</td> \n",
       "    </tr>    <tr> \n",
       "        <th id=\"T_aaff988c_ac63_11e7_b1e4_02426c849530level0_row3\" class=\"row_heading level0 row3\" >r3</th> \n",
       "        <td id=\"T_aaff988c_ac63_11e7_b1e4_02426c849530row3_col0\" class=\"data row3 col0\" >3</td> \n",
       "        <td id=\"T_aaff988c_ac63_11e7_b1e4_02426c849530row3_col1\" class=\"data row3 col1\" >7.5</td> \n",
       "        <td id=\"T_aaff988c_ac63_11e7_b1e4_02426c849530row3_col2\" class=\"data row3 col2\" >d</td> \n",
       "        <td id=\"T_aaff988c_ac63_11e7_b1e4_02426c849530row3_col3\" class=\"data row3 col3\" >four</td> \n",
       "        <td id=\"T_aaff988c_ac63_11e7_b1e4_02426c849530row3_col4\" class=\"data row3 col4\" >48</td> \n",
       "        <td id=\"T_aaff988c_ac63_11e7_b1e4_02426c849530row3_col5\" class=\"data row3 col5\" >7.6</td> \n",
       "        <td id=\"T_aaff988c_ac63_11e7_b1e4_02426c849530row3_col6\" class=\"data row3 col6\" >65</td> \n",
       "    </tr>    <tr> \n",
       "        <th id=\"T_aaff988c_ac63_11e7_b1e4_02426c849530level0_row4\" class=\"row_heading level0 row4\" >r4</th> \n",
       "        <td id=\"T_aaff988c_ac63_11e7_b1e4_02426c849530row4_col0\" class=\"data row4 col0\" >4</td> \n",
       "        <td id=\"T_aaff988c_ac63_11e7_b1e4_02426c849530row4_col1\" class=\"data row4 col1\" >8.5</td> \n",
       "        <td id=\"T_aaff988c_ac63_11e7_b1e4_02426c849530row4_col2\" class=\"data row4 col2\" >e</td> \n",
       "        <td id=\"T_aaff988c_ac63_11e7_b1e4_02426c849530row4_col3\" class=\"data row4 col3\" >five</td> \n",
       "        <td id=\"T_aaff988c_ac63_11e7_b1e4_02426c849530row4_col4\" class=\"data row4 col4\" >49</td> \n",
       "        <td id=\"T_aaff988c_ac63_11e7_b1e4_02426c849530row4_col5\" class=\"data row4 col5\" >43.9</td> \n",
       "        <td id=\"T_aaff988c_ac63_11e7_b1e4_02426c849530row4_col6\" class=\"data row4 col6\" >66</td> \n",
       "    </tr>    <tr> \n",
       "        <th id=\"T_aaff988c_ac63_11e7_b1e4_02426c849530level0_row5\" class=\"row_heading level0 row5\" >r5</th> \n",
       "        <td id=\"T_aaff988c_ac63_11e7_b1e4_02426c849530row5_col0\" class=\"data row5 col0\" >5</td> \n",
       "        <td id=\"T_aaff988c_ac63_11e7_b1e4_02426c849530row5_col1\" class=\"data row5 col1\" >9.5</td> \n",
       "        <td id=\"T_aaff988c_ac63_11e7_b1e4_02426c849530row5_col2\" class=\"data row5 col2\" >f</td> \n",
       "        <td id=\"T_aaff988c_ac63_11e7_b1e4_02426c849530row5_col3\" class=\"data row5 col3\" >six</td> \n",
       "        <td id=\"T_aaff988c_ac63_11e7_b1e4_02426c849530row5_col4\" class=\"data row5 col4\" >50</td> \n",
       "        <td id=\"T_aaff988c_ac63_11e7_b1e4_02426c849530row5_col5\" class=\"data row5 col5\" >10.1</td> \n",
       "        <td id=\"T_aaff988c_ac63_11e7_b1e4_02426c849530row5_col6\" class=\"data row5 col6\" >67</td> \n",
       "    </tr></tbody> \n",
       "</table> "
      ],
      "text/plain": [
       "<pandas.io.formats.style.Styler at 0x7f5e11a42eb8>"
      ]
     },
     "execution_count": 11,
     "metadata": {},
     "output_type": "execute_result"
    }
   ],
   "source": [
    "example_df.style.apply(highlight_cols, coldict=coldict)"
   ]
  },
  {
   "cell_type": "code",
   "execution_count": 12,
   "metadata": {},
   "outputs": [
    {
     "name": "stdout",
     "output_type": "stream",
     "text": [
      "<class 'pandas.core.frame.DataFrame'>\n",
      "Index: 6 entries, r0 to r5\n",
      "Data columns (total 7 columns):\n",
      "col1    6 non-null int64\n",
      "col2    6 non-null float64\n",
      "col3    6 non-null object\n",
      "col4    6 non-null object\n",
      "col5    6 non-null int64\n",
      "col6    6 non-null float64\n",
      "col7    6 non-null float64\n",
      "dtypes: float64(3), int64(2), object(2)\n",
      "memory usage: 544.0+ bytes\n"
     ]
    }
   ],
   "source": [
    "example_df.info()"
   ]
  },
  {
   "cell_type": "code",
   "execution_count": 13,
   "metadata": {
    "slideshow": {
     "slide_type": "skip"
    }
   },
   "outputs": [],
   "source": [
    "example_df.loc['r2', 'col1'] = np.nan;"
   ]
  },
  {
   "cell_type": "code",
   "execution_count": 14,
   "metadata": {
    "slideshow": {
     "slide_type": "skip"
    }
   },
   "outputs": [],
   "source": [
    "# dictionary of column colors\n",
    "coldict = {\n",
    "    'col1': '#dbffd6',\n",
    "    'col5': '#c5a3ff',\n",
    "    'col2': '#dbffd6',\n",
    "    'col6': '#dbffd6',\n",
    "    'col7': '#dbffd6',\n",
    "    'col3': '#ffcbc1',\n",
    "    'col4': '#ffcbc1',\n",
    "}\n",
    "\n",
    "def highlight_cols(s, coldict):\n",
    "    if s.name in coldict.keys():\n",
    "        return ['background-color: {}'.format(coldict[s.name])] * len(s)\n",
    "    return [''] * len(s)"
   ]
  },
  {
   "cell_type": "code",
   "execution_count": 15,
   "metadata": {
    "slideshow": {
     "slide_type": "skip"
    }
   },
   "outputs": [
    {
     "name": "stdout",
     "output_type": "stream",
     "text": [
      "<class 'pandas.core.frame.DataFrame'>\n",
      "Index: 6 entries, r0 to r5\n",
      "Data columns (total 7 columns):\n",
      "col1    5 non-null float64\n",
      "col2    6 non-null float64\n",
      "col3    6 non-null object\n",
      "col4    6 non-null object\n",
      "col5    6 non-null int64\n",
      "col6    6 non-null float64\n",
      "col7    6 non-null float64\n",
      "dtypes: float64(4), int64(1), object(2)\n",
      "memory usage: 544.0+ bytes\n"
     ]
    },
    {
     "data": {
      "text/html": [
       "<style  type=\"text/css\" >\n",
       "    #T_aaff988d_ac63_11e7_b1e4_02426c849530row0_col0 {\n",
       "            background-color:  #dbffd6;\n",
       "        }    #T_aaff988d_ac63_11e7_b1e4_02426c849530row0_col1 {\n",
       "            background-color:  #dbffd6;\n",
       "        }    #T_aaff988d_ac63_11e7_b1e4_02426c849530row0_col2 {\n",
       "            background-color:  #ffcbc1;\n",
       "        }    #T_aaff988d_ac63_11e7_b1e4_02426c849530row0_col3 {\n",
       "            background-color:  #ffcbc1;\n",
       "        }    #T_aaff988d_ac63_11e7_b1e4_02426c849530row0_col4 {\n",
       "            background-color:  #c5a3ff;\n",
       "        }    #T_aaff988d_ac63_11e7_b1e4_02426c849530row0_col5 {\n",
       "            background-color:  #dbffd6;\n",
       "        }    #T_aaff988d_ac63_11e7_b1e4_02426c849530row0_col6 {\n",
       "            background-color:  #dbffd6;\n",
       "        }    #T_aaff988d_ac63_11e7_b1e4_02426c849530row1_col0 {\n",
       "            background-color:  #dbffd6;\n",
       "        }    #T_aaff988d_ac63_11e7_b1e4_02426c849530row1_col1 {\n",
       "            background-color:  #dbffd6;\n",
       "        }    #T_aaff988d_ac63_11e7_b1e4_02426c849530row1_col2 {\n",
       "            background-color:  #ffcbc1;\n",
       "        }    #T_aaff988d_ac63_11e7_b1e4_02426c849530row1_col3 {\n",
       "            background-color:  #ffcbc1;\n",
       "        }    #T_aaff988d_ac63_11e7_b1e4_02426c849530row1_col4 {\n",
       "            background-color:  #c5a3ff;\n",
       "        }    #T_aaff988d_ac63_11e7_b1e4_02426c849530row1_col5 {\n",
       "            background-color:  #dbffd6;\n",
       "        }    #T_aaff988d_ac63_11e7_b1e4_02426c849530row1_col6 {\n",
       "            background-color:  #dbffd6;\n",
       "        }    #T_aaff988d_ac63_11e7_b1e4_02426c849530row2_col0 {\n",
       "            background-color:  #dbffd6;\n",
       "        }    #T_aaff988d_ac63_11e7_b1e4_02426c849530row2_col1 {\n",
       "            background-color:  #dbffd6;\n",
       "        }    #T_aaff988d_ac63_11e7_b1e4_02426c849530row2_col2 {\n",
       "            background-color:  #ffcbc1;\n",
       "        }    #T_aaff988d_ac63_11e7_b1e4_02426c849530row2_col3 {\n",
       "            background-color:  #ffcbc1;\n",
       "        }    #T_aaff988d_ac63_11e7_b1e4_02426c849530row2_col4 {\n",
       "            background-color:  #c5a3ff;\n",
       "        }    #T_aaff988d_ac63_11e7_b1e4_02426c849530row2_col5 {\n",
       "            background-color:  #dbffd6;\n",
       "        }    #T_aaff988d_ac63_11e7_b1e4_02426c849530row2_col6 {\n",
       "            background-color:  #dbffd6;\n",
       "        }    #T_aaff988d_ac63_11e7_b1e4_02426c849530row3_col0 {\n",
       "            background-color:  #dbffd6;\n",
       "        }    #T_aaff988d_ac63_11e7_b1e4_02426c849530row3_col1 {\n",
       "            background-color:  #dbffd6;\n",
       "        }    #T_aaff988d_ac63_11e7_b1e4_02426c849530row3_col2 {\n",
       "            background-color:  #ffcbc1;\n",
       "        }    #T_aaff988d_ac63_11e7_b1e4_02426c849530row3_col3 {\n",
       "            background-color:  #ffcbc1;\n",
       "        }    #T_aaff988d_ac63_11e7_b1e4_02426c849530row3_col4 {\n",
       "            background-color:  #c5a3ff;\n",
       "        }    #T_aaff988d_ac63_11e7_b1e4_02426c849530row3_col5 {\n",
       "            background-color:  #dbffd6;\n",
       "        }    #T_aaff988d_ac63_11e7_b1e4_02426c849530row3_col6 {\n",
       "            background-color:  #dbffd6;\n",
       "        }    #T_aaff988d_ac63_11e7_b1e4_02426c849530row4_col0 {\n",
       "            background-color:  #dbffd6;\n",
       "        }    #T_aaff988d_ac63_11e7_b1e4_02426c849530row4_col1 {\n",
       "            background-color:  #dbffd6;\n",
       "        }    #T_aaff988d_ac63_11e7_b1e4_02426c849530row4_col2 {\n",
       "            background-color:  #ffcbc1;\n",
       "        }    #T_aaff988d_ac63_11e7_b1e4_02426c849530row4_col3 {\n",
       "            background-color:  #ffcbc1;\n",
       "        }    #T_aaff988d_ac63_11e7_b1e4_02426c849530row4_col4 {\n",
       "            background-color:  #c5a3ff;\n",
       "        }    #T_aaff988d_ac63_11e7_b1e4_02426c849530row4_col5 {\n",
       "            background-color:  #dbffd6;\n",
       "        }    #T_aaff988d_ac63_11e7_b1e4_02426c849530row4_col6 {\n",
       "            background-color:  #dbffd6;\n",
       "        }    #T_aaff988d_ac63_11e7_b1e4_02426c849530row5_col0 {\n",
       "            background-color:  #dbffd6;\n",
       "        }    #T_aaff988d_ac63_11e7_b1e4_02426c849530row5_col1 {\n",
       "            background-color:  #dbffd6;\n",
       "        }    #T_aaff988d_ac63_11e7_b1e4_02426c849530row5_col2 {\n",
       "            background-color:  #ffcbc1;\n",
       "        }    #T_aaff988d_ac63_11e7_b1e4_02426c849530row5_col3 {\n",
       "            background-color:  #ffcbc1;\n",
       "        }    #T_aaff988d_ac63_11e7_b1e4_02426c849530row5_col4 {\n",
       "            background-color:  #c5a3ff;\n",
       "        }    #T_aaff988d_ac63_11e7_b1e4_02426c849530row5_col5 {\n",
       "            background-color:  #dbffd6;\n",
       "        }    #T_aaff988d_ac63_11e7_b1e4_02426c849530row5_col6 {\n",
       "            background-color:  #dbffd6;\n",
       "        }</style>  \n",
       "<table id=\"T_aaff988d_ac63_11e7_b1e4_02426c849530\" > \n",
       "<thead>    <tr> \n",
       "        <th class=\"blank level0\" ></th> \n",
       "        <th class=\"col_heading level0 col0\" >col1</th> \n",
       "        <th class=\"col_heading level0 col1\" >col2</th> \n",
       "        <th class=\"col_heading level0 col2\" >col3</th> \n",
       "        <th class=\"col_heading level0 col3\" >col4</th> \n",
       "        <th class=\"col_heading level0 col4\" >col5</th> \n",
       "        <th class=\"col_heading level0 col5\" >col6</th> \n",
       "        <th class=\"col_heading level0 col6\" >col7</th> \n",
       "    </tr></thead> \n",
       "<tbody>    <tr> \n",
       "        <th id=\"T_aaff988d_ac63_11e7_b1e4_02426c849530level0_row0\" class=\"row_heading level0 row0\" >r0</th> \n",
       "        <td id=\"T_aaff988d_ac63_11e7_b1e4_02426c849530row0_col0\" class=\"data row0 col0\" >0</td> \n",
       "        <td id=\"T_aaff988d_ac63_11e7_b1e4_02426c849530row0_col1\" class=\"data row0 col1\" >4.5</td> \n",
       "        <td id=\"T_aaff988d_ac63_11e7_b1e4_02426c849530row0_col2\" class=\"data row0 col2\" >a</td> \n",
       "        <td id=\"T_aaff988d_ac63_11e7_b1e4_02426c849530row0_col3\" class=\"data row0 col3\" >one</td> \n",
       "        <td id=\"T_aaff988d_ac63_11e7_b1e4_02426c849530row0_col4\" class=\"data row0 col4\" >45</td> \n",
       "        <td id=\"T_aaff988d_ac63_11e7_b1e4_02426c849530row0_col5\" class=\"data row0 col5\" >22.3</td> \n",
       "        <td id=\"T_aaff988d_ac63_11e7_b1e4_02426c849530row0_col6\" class=\"data row0 col6\" >62</td> \n",
       "    </tr>    <tr> \n",
       "        <th id=\"T_aaff988d_ac63_11e7_b1e4_02426c849530level0_row1\" class=\"row_heading level0 row1\" >r1</th> \n",
       "        <td id=\"T_aaff988d_ac63_11e7_b1e4_02426c849530row1_col0\" class=\"data row1 col0\" >1</td> \n",
       "        <td id=\"T_aaff988d_ac63_11e7_b1e4_02426c849530row1_col1\" class=\"data row1 col1\" >5.5</td> \n",
       "        <td id=\"T_aaff988d_ac63_11e7_b1e4_02426c849530row1_col2\" class=\"data row1 col2\" >b</td> \n",
       "        <td id=\"T_aaff988d_ac63_11e7_b1e4_02426c849530row1_col3\" class=\"data row1 col3\" >two</td> \n",
       "        <td id=\"T_aaff988d_ac63_11e7_b1e4_02426c849530row1_col4\" class=\"data row1 col4\" >46</td> \n",
       "        <td id=\"T_aaff988d_ac63_11e7_b1e4_02426c849530row1_col5\" class=\"data row1 col5\" >98.3</td> \n",
       "        <td id=\"T_aaff988d_ac63_11e7_b1e4_02426c849530row1_col6\" class=\"data row1 col6\" >63</td> \n",
       "    </tr>    <tr> \n",
       "        <th id=\"T_aaff988d_ac63_11e7_b1e4_02426c849530level0_row2\" class=\"row_heading level0 row2\" >r2</th> \n",
       "        <td id=\"T_aaff988d_ac63_11e7_b1e4_02426c849530row2_col0\" class=\"data row2 col0\" >nan</td> \n",
       "        <td id=\"T_aaff988d_ac63_11e7_b1e4_02426c849530row2_col1\" class=\"data row2 col1\" >6.5</td> \n",
       "        <td id=\"T_aaff988d_ac63_11e7_b1e4_02426c849530row2_col2\" class=\"data row2 col2\" >c</td> \n",
       "        <td id=\"T_aaff988d_ac63_11e7_b1e4_02426c849530row2_col3\" class=\"data row2 col3\" >three</td> \n",
       "        <td id=\"T_aaff988d_ac63_11e7_b1e4_02426c849530row2_col4\" class=\"data row2 col4\" >47</td> \n",
       "        <td id=\"T_aaff988d_ac63_11e7_b1e4_02426c849530row2_col5\" class=\"data row2 col5\" >52</td> \n",
       "        <td id=\"T_aaff988d_ac63_11e7_b1e4_02426c849530row2_col6\" class=\"data row2 col6\" >64</td> \n",
       "    </tr>    <tr> \n",
       "        <th id=\"T_aaff988d_ac63_11e7_b1e4_02426c849530level0_row3\" class=\"row_heading level0 row3\" >r3</th> \n",
       "        <td id=\"T_aaff988d_ac63_11e7_b1e4_02426c849530row3_col0\" class=\"data row3 col0\" >3</td> \n",
       "        <td id=\"T_aaff988d_ac63_11e7_b1e4_02426c849530row3_col1\" class=\"data row3 col1\" >7.5</td> \n",
       "        <td id=\"T_aaff988d_ac63_11e7_b1e4_02426c849530row3_col2\" class=\"data row3 col2\" >d</td> \n",
       "        <td id=\"T_aaff988d_ac63_11e7_b1e4_02426c849530row3_col3\" class=\"data row3 col3\" >four</td> \n",
       "        <td id=\"T_aaff988d_ac63_11e7_b1e4_02426c849530row3_col4\" class=\"data row3 col4\" >48</td> \n",
       "        <td id=\"T_aaff988d_ac63_11e7_b1e4_02426c849530row3_col5\" class=\"data row3 col5\" >7.6</td> \n",
       "        <td id=\"T_aaff988d_ac63_11e7_b1e4_02426c849530row3_col6\" class=\"data row3 col6\" >65</td> \n",
       "    </tr>    <tr> \n",
       "        <th id=\"T_aaff988d_ac63_11e7_b1e4_02426c849530level0_row4\" class=\"row_heading level0 row4\" >r4</th> \n",
       "        <td id=\"T_aaff988d_ac63_11e7_b1e4_02426c849530row4_col0\" class=\"data row4 col0\" >4</td> \n",
       "        <td id=\"T_aaff988d_ac63_11e7_b1e4_02426c849530row4_col1\" class=\"data row4 col1\" >8.5</td> \n",
       "        <td id=\"T_aaff988d_ac63_11e7_b1e4_02426c849530row4_col2\" class=\"data row4 col2\" >e</td> \n",
       "        <td id=\"T_aaff988d_ac63_11e7_b1e4_02426c849530row4_col3\" class=\"data row4 col3\" >five</td> \n",
       "        <td id=\"T_aaff988d_ac63_11e7_b1e4_02426c849530row4_col4\" class=\"data row4 col4\" >49</td> \n",
       "        <td id=\"T_aaff988d_ac63_11e7_b1e4_02426c849530row4_col5\" class=\"data row4 col5\" >43.9</td> \n",
       "        <td id=\"T_aaff988d_ac63_11e7_b1e4_02426c849530row4_col6\" class=\"data row4 col6\" >66</td> \n",
       "    </tr>    <tr> \n",
       "        <th id=\"T_aaff988d_ac63_11e7_b1e4_02426c849530level0_row5\" class=\"row_heading level0 row5\" >r5</th> \n",
       "        <td id=\"T_aaff988d_ac63_11e7_b1e4_02426c849530row5_col0\" class=\"data row5 col0\" >5</td> \n",
       "        <td id=\"T_aaff988d_ac63_11e7_b1e4_02426c849530row5_col1\" class=\"data row5 col1\" >9.5</td> \n",
       "        <td id=\"T_aaff988d_ac63_11e7_b1e4_02426c849530row5_col2\" class=\"data row5 col2\" >f</td> \n",
       "        <td id=\"T_aaff988d_ac63_11e7_b1e4_02426c849530row5_col3\" class=\"data row5 col3\" >six</td> \n",
       "        <td id=\"T_aaff988d_ac63_11e7_b1e4_02426c849530row5_col4\" class=\"data row5 col4\" >50</td> \n",
       "        <td id=\"T_aaff988d_ac63_11e7_b1e4_02426c849530row5_col5\" class=\"data row5 col5\" >10.1</td> \n",
       "        <td id=\"T_aaff988d_ac63_11e7_b1e4_02426c849530row5_col6\" class=\"data row5 col6\" >67</td> \n",
       "    </tr></tbody> \n",
       "</table> "
      ],
      "text/plain": [
       "<pandas.io.formats.style.Styler at 0x7f5e11b7b630>"
      ]
     },
     "execution_count": 15,
     "metadata": {},
     "output_type": "execute_result"
    }
   ],
   "source": [
    "example_df.info()\n",
    "example_df.style.apply(highlight_cols, coldict=coldict)"
   ]
  },
  {
   "cell_type": "markdown",
   "metadata": {
    "slideshow": {
     "slide_type": "slide"
    }
   },
   "source": [
    "---\n",
    "<h2>Data set: Prodigy Finance loan application data</h2>"
   ]
  },
  {
   "cell_type": "code",
   "execution_count": 16,
   "metadata": {
    "slideshow": {
     "slide_type": "-"
    }
   },
   "outputs": [
    {
     "name": "stdout",
     "output_type": "stream",
     "text": [
      "-rw-r--r-- 1 laura laura 1.9M Oct  8 21:49 pycon_example_data.csv\r\n"
     ]
    }
   ],
   "source": [
    "!ls -lh | grep pycon_example_data.csv"
   ]
  },
  {
   "cell_type": "code",
   "execution_count": 17,
   "metadata": {
    "slideshow": {
     "slide_type": "-"
    }
   },
   "outputs": [
    {
     "name": "stdout",
     "output_type": "stream",
     "text": [
      "peak memory: 123.36 MiB, increment: 15.40 MiB\n",
      "Rows:    20000\n",
      "Columns: 14\n"
     ]
    }
   ],
   "source": [
    "%memit -r 1 -i 0 df = pd.read_csv('pycon_example_data.csv')\n",
    "\n",
    "nrows, ncols = df.shape\n",
    "print('Rows:   ', nrows)\n",
    "print('Columns:', ncols)\n",
    "column_names = df.columns"
   ]
  },
  {
   "cell_type": "code",
   "execution_count": 18,
   "metadata": {
    "slideshow": {
     "slide_type": "-"
    }
   },
   "outputs": [
    {
     "data": {
      "text/html": [
       "<div>\n",
       "<style>\n",
       "    .dataframe thead tr:only-child th {\n",
       "        text-align: right;\n",
       "    }\n",
       "\n",
       "    .dataframe thead th {\n",
       "        text-align: left;\n",
       "    }\n",
       "\n",
       "    .dataframe tbody tr th {\n",
       "        vertical-align: top;\n",
       "    }\n",
       "</style>\n",
       "<table border=\"1\" class=\"dataframe\">\n",
       "  <thead>\n",
       "    <tr style=\"text-align: right;\">\n",
       "      <th></th>\n",
       "      <th>average_3_month_salary</th>\n",
       "      <th>average_3_month_salary_gbp_rate</th>\n",
       "      <th>country_of_habitual_residence</th>\n",
       "      <th>default_gbp_rate</th>\n",
       "      <th>latest_step</th>\n",
       "      <th>other_assets</th>\n",
       "      <th>other_assets_gbp_rate</th>\n",
       "      <th>payback_period</th>\n",
       "      <th>pre_study_country</th>\n",
       "      <th>property_value</th>\n",
       "      <th>property_value_gbp_rate</th>\n",
       "      <th>school_type</th>\n",
       "      <th>school_university_name</th>\n",
       "      <th>total_liabilities_in_base_currency</th>\n",
       "    </tr>\n",
       "  </thead>\n",
       "  <tbody>\n",
       "    <tr>\n",
       "      <th>0</th>\n",
       "      <td>1458.997</td>\n",
       "      <td>0.866</td>\n",
       "      <td>ET</td>\n",
       "      <td>0.474</td>\n",
       "      <td>2</td>\n",
       "      <td>541.529</td>\n",
       "      <td>1.267</td>\n",
       "      <td>180</td>\n",
       "      <td>IM</td>\n",
       "      <td>325.148</td>\n",
       "      <td>0.555</td>\n",
       "      <td>Engineering</td>\n",
       "      <td>New York University</td>\n",
       "      <td>18810.277</td>\n",
       "    </tr>\n",
       "    <tr>\n",
       "      <th>1</th>\n",
       "      <td>2177.916</td>\n",
       "      <td>1.299</td>\n",
       "      <td>CN</td>\n",
       "      <td>1.337</td>\n",
       "      <td>6</td>\n",
       "      <td>757.306</td>\n",
       "      <td>0.802</td>\n",
       "      <td>180</td>\n",
       "      <td>MK</td>\n",
       "      <td>1668.911</td>\n",
       "      <td>1.362</td>\n",
       "      <td>Business</td>\n",
       "      <td>University of Pennsylvania</td>\n",
       "      <td>11203.819</td>\n",
       "    </tr>\n",
       "    <tr>\n",
       "      <th>2</th>\n",
       "      <td>1445.805</td>\n",
       "      <td>0.858</td>\n",
       "      <td>TW</td>\n",
       "      <td>0.923</td>\n",
       "      <td>6</td>\n",
       "      <td>290.339</td>\n",
       "      <td>0.579</td>\n",
       "      <td>240</td>\n",
       "      <td>PH</td>\n",
       "      <td>944.007</td>\n",
       "      <td>1.168</td>\n",
       "      <td>Engineering</td>\n",
       "      <td>University of Michigan</td>\n",
       "      <td>NaN</td>\n",
       "    </tr>\n",
       "    <tr>\n",
       "      <th>3</th>\n",
       "      <td>1080.797</td>\n",
       "      <td>1.508</td>\n",
       "      <td>SG</td>\n",
       "      <td>0.650</td>\n",
       "      <td>8</td>\n",
       "      <td>602.398</td>\n",
       "      <td>1.482</td>\n",
       "      <td>60</td>\n",
       "      <td>KE</td>\n",
       "      <td>1339.878</td>\n",
       "      <td>1.076</td>\n",
       "      <td>Engineering</td>\n",
       "      <td>University of Oxford</td>\n",
       "      <td>18493.556</td>\n",
       "    </tr>\n",
       "    <tr>\n",
       "      <th>4</th>\n",
       "      <td>809.031</td>\n",
       "      <td>0.566</td>\n",
       "      <td>GA</td>\n",
       "      <td>1.199</td>\n",
       "      <td>5</td>\n",
       "      <td>617.201</td>\n",
       "      <td>0.806</td>\n",
       "      <td>240</td>\n",
       "      <td>FI</td>\n",
       "      <td>2643.022</td>\n",
       "      <td>1.603</td>\n",
       "      <td>Engineering</td>\n",
       "      <td>Georgetown University</td>\n",
       "      <td>NaN</td>\n",
       "    </tr>\n",
       "  </tbody>\n",
       "</table>\n",
       "</div>"
      ],
      "text/plain": [
       "   average_3_month_salary  average_3_month_salary_gbp_rate  \\\n",
       "0                1458.997                            0.866   \n",
       "1                2177.916                            1.299   \n",
       "2                1445.805                            0.858   \n",
       "3                1080.797                            1.508   \n",
       "4                 809.031                            0.566   \n",
       "\n",
       "  country_of_habitual_residence  default_gbp_rate  latest_step  other_assets  \\\n",
       "0                            ET             0.474            2       541.529   \n",
       "1                            CN             1.337            6       757.306   \n",
       "2                            TW             0.923            6       290.339   \n",
       "3                            SG             0.650            8       602.398   \n",
       "4                            GA             1.199            5       617.201   \n",
       "\n",
       "   other_assets_gbp_rate  payback_period pre_study_country  property_value  \\\n",
       "0                  1.267             180                IM         325.148   \n",
       "1                  0.802             180                MK        1668.911   \n",
       "2                  0.579             240                PH         944.007   \n",
       "3                  1.482              60                KE        1339.878   \n",
       "4                  0.806             240                FI        2643.022   \n",
       "\n",
       "   property_value_gbp_rate  school_type      school_university_name  \\\n",
       "0                    0.555  Engineering         New York University   \n",
       "1                    1.362     Business  University of Pennsylvania   \n",
       "2                    1.168  Engineering      University of Michigan   \n",
       "3                    1.076  Engineering        University of Oxford   \n",
       "4                    1.603  Engineering       Georgetown University   \n",
       "\n",
       "   total_liabilities_in_base_currency  \n",
       "0                           18810.277  \n",
       "1                           11203.819  \n",
       "2                                 NaN  \n",
       "3                           18493.556  \n",
       "4                                 NaN  "
      ]
     },
     "execution_count": 18,
     "metadata": {},
     "output_type": "execute_result"
    }
   ],
   "source": [
    "df.head()"
   ]
  },
  {
   "cell_type": "markdown",
   "metadata": {
    "slideshow": {
     "slide_type": "slide"
    }
   },
   "source": [
    "---\n",
    "<h2>DataFrame internals</h2>"
   ]
  },
  {
   "cell_type": "code",
   "execution_count": 19,
   "metadata": {},
   "outputs": [
    {
     "name": "stdout",
     "output_type": "stream",
     "text": [
      "<class 'pandas.core.frame.DataFrame'>\n",
      "RangeIndex: 20000 entries, 0 to 19999\n",
      "Data columns (total 14 columns):\n",
      "average_3_month_salary                17626 non-null float64\n",
      "average_3_month_salary_gbp_rate       20000 non-null float64\n",
      "country_of_habitual_residence         19877 non-null object\n",
      "default_gbp_rate                      20000 non-null float64\n",
      "latest_step                           20000 non-null int64\n",
      "other_assets                          18086 non-null float64\n",
      "other_assets_gbp_rate                 20000 non-null float64\n",
      "payback_period                        20000 non-null int64\n",
      "pre_study_country                     19882 non-null object\n",
      "property_value                        16939 non-null float64\n",
      "property_value_gbp_rate               20000 non-null float64\n",
      "school_type                           20000 non-null object\n",
      "school_university_name                19376 non-null object\n",
      "total_liabilities_in_base_currency    16912 non-null float64\n",
      "dtypes: float64(8), int64(2), object(4)\n",
      "memory usage: 2.1+ MB\n"
     ]
    }
   ],
   "source": [
    "df.info()"
   ]
  },
  {
   "cell_type": "code",
   "execution_count": 20,
   "metadata": {},
   "outputs": [
    {
     "name": "stdout",
     "output_type": "stream",
     "text": [
      "<class 'pandas.core.frame.DataFrame'>\n",
      "RangeIndex: 20000 entries, 0 to 19999\n",
      "Data columns (total 14 columns):\n",
      "average_3_month_salary                17626 non-null float64\n",
      "average_3_month_salary_gbp_rate       20000 non-null float64\n",
      "country_of_habitual_residence         19877 non-null object\n",
      "default_gbp_rate                      20000 non-null float64\n",
      "latest_step                           20000 non-null int64\n",
      "other_assets                          18086 non-null float64\n",
      "other_assets_gbp_rate                 20000 non-null float64\n",
      "payback_period                        20000 non-null int64\n",
      "pre_study_country                     19882 non-null object\n",
      "property_value                        16939 non-null float64\n",
      "property_value_gbp_rate               20000 non-null float64\n",
      "school_type                           20000 non-null object\n",
      "school_university_name                19376 non-null object\n",
      "total_liabilities_in_base_currency    16912 non-null float64\n",
      "dtypes: float64(8), int64(2), object(4)\n",
      "memory usage: 6.5 MB\n"
     ]
    }
   ],
   "source": [
    "df.info(memory_usage='deep')"
   ]
  },
  {
   "cell_type": "markdown",
   "metadata": {
    "slideshow": {
     "slide_type": "slide"
    }
   },
   "source": [
    "---\n",
    "<h2>The block manager</h2>"
   ]
  },
  {
   "cell_type": "code",
   "execution_count": 21,
   "metadata": {
    "slideshow": {
     "slide_type": "-"
    }
   },
   "outputs": [
    {
     "data": {
      "text/plain": [
       "BlockManager\n",
       "Items: Index(['average_3_month_salary', 'average_3_month_salary_gbp_rate',\n",
       "       'country_of_habitual_residence', 'default_gbp_rate', 'latest_step',\n",
       "       'other_assets', 'other_assets_gbp_rate', 'payback_period',\n",
       "       'pre_study_country', 'property_value', 'property_value_gbp_rate',\n",
       "       'school_type', 'school_university_name',\n",
       "       'total_liabilities_in_base_currency'],\n",
       "      dtype='object')\n",
       "Axis 1: RangeIndex(start=0, stop=20000, step=1)\n",
       "FloatBlock: [0, 1, 3, 5, 6, 9, 10, 13], 8 x 20000, dtype: float64\n",
       "IntBlock: slice(4, 10, 3), 2 x 20000, dtype: int64\n",
       "ObjectBlock: [2, 8, 11, 12], 4 x 20000, dtype: object"
      ]
     },
     "execution_count": 21,
     "metadata": {},
     "output_type": "execute_result"
    }
   ],
   "source": [
    "df._data"
   ]
  },
  {
   "cell_type": "code",
   "execution_count": 22,
   "metadata": {
    "slideshow": {
     "slide_type": "-"
    }
   },
   "outputs": [
    {
     "data": {
      "text/plain": [
       "Index                                      80\n",
       "average_3_month_salary                 160000\n",
       "average_3_month_salary_gbp_rate        160000\n",
       "country_of_habitual_residence         1176893\n",
       "default_gbp_rate                       160000\n",
       "latest_step                            160000\n",
       "other_assets                           160000\n",
       "other_assets_gbp_rate                  160000\n",
       "payback_period                         160000\n",
       "pre_study_country                     1177046\n",
       "property_value                         160000\n",
       "property_value_gbp_rate                160000\n",
       "school_type                           1330159\n",
       "school_university_name                1532929\n",
       "total_liabilities_in_base_currency     160000\n",
       "dtype: int64"
      ]
     },
     "execution_count": 22,
     "metadata": {},
     "output_type": "execute_result"
    }
   ],
   "source": [
    "df.memory_usage(deep=True)"
   ]
  },
  {
   "cell_type": "markdown",
   "metadata": {
    "slideshow": {
     "slide_type": "slide"
    }
   },
   "source": [
    "---\n",
    "<h2>Sidebar: The category type</h2>"
   ]
  },
  {
   "cell_type": "code",
   "execution_count": 23,
   "metadata": {
    "slideshow": {
     "slide_type": "skip"
    }
   },
   "outputs": [],
   "source": [
    "pd.set_option('display.max_rows', 12)"
   ]
  },
  {
   "cell_type": "code",
   "execution_count": 24,
   "metadata": {},
   "outputs": [
    {
     "data": {
      "text/plain": [
       "0        ET\n",
       "1        CN\n",
       "2        TW\n",
       "3        SG\n",
       "4        GA\n",
       "5        MU\n",
       "         ..\n",
       "19994    KH\n",
       "19995    RW\n",
       "19996    KY\n",
       "19997    CY\n",
       "19998    JM\n",
       "19999    NP\n",
       "Name: country_of_habitual_residence, Length: 20000, dtype: object"
      ]
     },
     "execution_count": 24,
     "metadata": {},
     "output_type": "execute_result"
    }
   ],
   "source": [
    "df['country_of_habitual_residence']"
   ]
  },
  {
   "cell_type": "code",
   "execution_count": 25,
   "metadata": {
    "slideshow": {
     "slide_type": "skip"
    }
   },
   "outputs": [],
   "source": [
    "pd.set_option('display.max_rows', 20)"
   ]
  },
  {
   "cell_type": "code",
   "execution_count": 26,
   "metadata": {},
   "outputs": [
    {
     "data": {
      "text/plain": [
       "array(['New York University', 'University of Pennsylvania',\n",
       "       'University of Michigan', 'University of Oxford',\n",
       "       'Georgetown University', 'Stanford University',\n",
       "       'Cornell University', 'Ramon Llull University',\n",
       "       'University of British Columbia', 'Boston University',\n",
       "       'University of Strathclyde', 'Harvard University',\n",
       "       'University of Illinois Urbana-Champaign',\n",
       "       'University of Cambridge', 'University of Navarra',\n",
       "       'Dartmouth College', 'City University', 'Columbia University',\n",
       "       'University of Toronto', 'University of Cape Town', nan,\n",
       "       'Carnegie Mellon University', 'University of Chicago',\n",
       "       'York University', 'IE University', 'Lancaster University',\n",
       "       'Cranfield University', 'Babson College',\n",
       "       'University of Connecticut', 'University of Southern California',\n",
       "       'McGill University', 'Boston College'], dtype=object)"
      ]
     },
     "execution_count": 26,
     "metadata": {},
     "output_type": "execute_result"
    }
   ],
   "source": [
    "df['school_university_name'].unique()"
   ]
  },
  {
   "cell_type": "code",
   "execution_count": 27,
   "metadata": {},
   "outputs": [],
   "source": [
    "df['country_of_habitual_residence'] = df['country_of_habitual_residence'].astype('category')"
   ]
  },
  {
   "cell_type": "code",
   "execution_count": 28,
   "metadata": {},
   "outputs": [
    {
     "data": {
      "text/plain": [
       "Index                                      80\n",
       "average_3_month_salary                 160000\n",
       "average_3_month_salary_gbp_rate        160000\n",
       "country_of_habitual_residence           55093\n",
       "default_gbp_rate                       160000\n",
       "latest_step                            160000\n",
       "other_assets                           160000\n",
       "other_assets_gbp_rate                  160000\n",
       "payback_period                         160000\n",
       "pre_study_country                     1177046\n",
       "property_value                         160000\n",
       "property_value_gbp_rate                160000\n",
       "school_type                           1330159\n",
       "school_university_name                1532929\n",
       "total_liabilities_in_base_currency     160000\n",
       "dtype: int64"
      ]
     },
     "execution_count": 28,
     "metadata": {},
     "output_type": "execute_result"
    }
   ],
   "source": [
    "df.memory_usage(deep=True)"
   ]
  },
  {
   "cell_type": "code",
   "execution_count": 29,
   "metadata": {
    "slideshow": {
     "slide_type": "skip"
    }
   },
   "outputs": [],
   "source": [
    "pd.set_option('display.max_rows', 12)"
   ]
  },
  {
   "cell_type": "code",
   "execution_count": 30,
   "metadata": {
    "slideshow": {
     "slide_type": "slide"
    }
   },
   "outputs": [
    {
     "data": {
      "text/plain": [
       "0        ET\n",
       "1        CN\n",
       "2        TW\n",
       "3        SG\n",
       "4        GA\n",
       "5        MU\n",
       "         ..\n",
       "19994    KH\n",
       "19995    RW\n",
       "19996    KY\n",
       "19997    CY\n",
       "19998    JM\n",
       "19999    NP\n",
       "Name: country_of_habitual_residence, Length: 20000, dtype: category\n",
       "Categories (169, object): [AD, AE, AF, AL, ..., YE, ZA, ZM, ZW]"
      ]
     },
     "execution_count": 30,
     "metadata": {},
     "output_type": "execute_result"
    }
   ],
   "source": [
    "df['country_of_habitual_residence']"
   ]
  },
  {
   "cell_type": "code",
   "execution_count": 31,
   "metadata": {
    "slideshow": {
     "slide_type": "skip"
    }
   },
   "outputs": [],
   "source": [
    "pd.set_option('display.max_rows', 20)"
   ]
  },
  {
   "cell_type": "code",
   "execution_count": 32,
   "metadata": {},
   "outputs": [
    {
     "data": {
      "text/plain": [
       "BlockManager\n",
       "Items: Index(['average_3_month_salary', 'average_3_month_salary_gbp_rate',\n",
       "       'country_of_habitual_residence', 'default_gbp_rate', 'latest_step',\n",
       "       'other_assets', 'other_assets_gbp_rate', 'payback_period',\n",
       "       'pre_study_country', 'property_value', 'property_value_gbp_rate',\n",
       "       'school_type', 'school_university_name',\n",
       "       'total_liabilities_in_base_currency'],\n",
       "      dtype='object')\n",
       "Axis 1: RangeIndex(start=0, stop=20000, step=1)\n",
       "FloatBlock: [0, 1, 3, 5, 6, 9, 10, 13], 8 x 20000, dtype: float64\n",
       "IntBlock: slice(4, 10, 3), 2 x 20000, dtype: int64\n",
       "ObjectBlock: [8, 11, 12], 3 x 20000, dtype: object\n",
       "CategoricalBlock: slice(2, 3, 1), 1 x 20000, dtype: category"
      ]
     },
     "execution_count": 32,
     "metadata": {},
     "output_type": "execute_result"
    }
   ],
   "source": [
    "df._data"
   ]
  },
  {
   "cell_type": "markdown",
   "metadata": {
    "slideshow": {
     "slide_type": "slide"
    }
   },
   "source": [
    "---\n",
    "<h1>Examples</h1>"
   ]
  },
  {
   "cell_type": "markdown",
   "metadata": {
    "slideshow": {
     "slide_type": "-"
    }
   },
   "source": [
    "---\n",
    "<h2>Example 1: Extracting data (Simple sum)</h2>"
   ]
  },
  {
   "cell_type": "code",
   "execution_count": 33,
   "metadata": {},
   "outputs": [
    {
     "name": "stdout",
     "output_type": "stream",
     "text": [
      "497 µs ± 63.1 µs per loop (mean ± std. dev. of 200 runs, 7 loops each)\n",
      "52.1 µs ± 8.42 µs per loop (mean ± std. dev. of 200 runs, 7 loops each)\n",
      "35.6 µs ± 3.2 µs per loop (mean ± std. dev. of 200 runs, 7 loops each)\n",
      "3.07 µs ± 802 ns per loop (mean ± std. dev. of 200 runs, 7 loops each)\n"
     ]
    }
   ],
   "source": [
    "%timeit -n 7 -r 200 df[['average_3_month_salary']][5000:15000]\n",
    "%timeit -n 7 -r 200 df['average_3_month_salary'][5000:15000]\n",
    "%timeit -n 7 -r 200 df['average_3_month_salary'].iloc[5000:15000]\n",
    "%timeit -n 7 -r 200 df['average_3_month_salary'].values[5000:15000]"
   ]
  },
  {
   "cell_type": "markdown",
   "metadata": {
    "slideshow": {
     "slide_type": "-"
    }
   },
   "source": [
    "---\n",
    "<h2>Example 2: Unique string values</h2>"
   ]
  },
  {
   "cell_type": "code",
   "execution_count": 34,
   "metadata": {},
   "outputs": [
    {
     "name": "stdout",
     "output_type": "stream",
     "text": [
      "9.43 ms ± 546 µs per loop (mean ± std. dev. of 200 runs, 7 loops each)\n",
      "9.31 ms ± 594 µs per loop (mean ± std. dev. of 200 runs, 7 loops each)\n",
      "332 µs ± 16.5 µs per loop (mean ± std. dev. of 200 runs, 7 loops each)\n"
     ]
    }
   ],
   "source": [
    "df['pre_study_country'].fillna('', inplace=True)\n",
    "\n",
    "%timeit -n 7 -r 200 np.unique(df['pre_study_country'])\n",
    "%timeit -n 7 -r 200 np.unique(df['pre_study_country'].values)\n",
    "%timeit -n 7 -r 200 df['pre_study_country'].unique()"
   ]
  },
  {
   "cell_type": "markdown",
   "metadata": {
    "slideshow": {
     "slide_type": "slide"
    }
   },
   "source": [
    "---\n",
    "<h2>Example 3: Combining columns (Simple sum)</h2>"
   ]
  },
  {
   "cell_type": "code",
   "execution_count": 35,
   "metadata": {},
   "outputs": [
    {
     "name": "stdout",
     "output_type": "stream",
     "text": [
      "429 ms ± 5.84 ms per loop (mean ± std. dev. of 7 runs, 1 loop each)\n"
     ]
    }
   ],
   "source": [
    "%%timeit\n",
    "assets = []\n",
    "for i in range(0, len(df)):\n",
    "    a = df['property_value'].iloc[i] + df['other_assets'].iloc[i]\n",
    "    assets.append(a)"
   ]
  },
  {
   "cell_type": "code",
   "execution_count": 36,
   "metadata": {},
   "outputs": [
    {
     "name": "stdout",
     "output_type": "stream",
     "text": [
      "1.14 s ± 7.61 ms per loop (mean ± std. dev. of 7 runs, 1 loop each)\n"
     ]
    }
   ],
   "source": [
    "%%timeit\n",
    "assets = []\n",
    "for ii, row in df.iterrows():\n",
    "    a = row['property_value'] + row['other_assets']\n",
    "    assets.append(a)"
   ]
  },
  {
   "cell_type": "code",
   "execution_count": 37,
   "metadata": {},
   "outputs": [
    {
     "name": "stdout",
     "output_type": "stream",
     "text": [
      "425 ms ± 30.7 ms per loop (mean ± std. dev. of 7 runs, 1 loop each)\n"
     ]
    }
   ],
   "source": [
    "%timeit assets = df[['property_value', 'other_assets']].apply(lambda row: np.nansum(row), axis=1)"
   ]
  },
  {
   "cell_type": "code",
   "execution_count": 38,
   "metadata": {},
   "outputs": [
    {
     "name": "stdout",
     "output_type": "stream",
     "text": [
      "360 ms ± 11.4 ms per loop (mean ± std. dev. of 7 runs, 1 loop each)\n"
     ]
    }
   ],
   "source": [
    "%timeit assets = df.apply(lambda row: row['property_value'] + row['other_assets'], axis=1)"
   ]
  },
  {
   "cell_type": "code",
   "execution_count": 39,
   "metadata": {},
   "outputs": [
    {
     "name": "stdout",
     "output_type": "stream",
     "text": [
      "517 µs ± 7.7 µs per loop (mean ± std. dev. of 7 runs, 1000 loops each)\n"
     ]
    }
   ],
   "source": [
    "%timeit assets = df[['property_value', 'other_assets']].sum()"
   ]
  },
  {
   "cell_type": "code",
   "execution_count": 40,
   "metadata": {},
   "outputs": [
    {
     "name": "stdout",
     "output_type": "stream",
     "text": [
      "403 µs ± 4.53 µs per loop (mean ± std. dev. of 7 runs, 1000 loops each)\n"
     ]
    }
   ],
   "source": [
    "%timeit assets = np.sum(df[['property_value', 'other_assets']].values, axis=1)"
   ]
  },
  {
   "cell_type": "code",
   "execution_count": 41,
   "metadata": {},
   "outputs": [
    {
     "name": "stdout",
     "output_type": "stream",
     "text": [
      "177 µs ± 1.91 µs per loop (mean ± std. dev. of 7 runs, 10000 loops each)\n"
     ]
    }
   ],
   "source": [
    "%timeit assets = df['property_value'] + df['other_assets']"
   ]
  },
  {
   "cell_type": "code",
   "execution_count": 42,
   "metadata": {},
   "outputs": [
    {
     "name": "stdout",
     "output_type": "stream",
     "text": [
      "23.5 µs ± 2.36 µs per loop (mean ± std. dev. of 7 runs, 10000 loops each)\n"
     ]
    }
   ],
   "source": [
    "%timeit assets = df['property_value'].values + df['other_assets'].values"
   ]
  },
  {
   "cell_type": "markdown",
   "metadata": {
    "slideshow": {
     "slide_type": "slide"
    }
   },
   "source": [
    "---\n",
    "<h3>Sidebar: Other numerical backends: Numexpr & Bottleneck</h3>"
   ]
  },
  {
   "cell_type": "code",
   "execution_count": 43,
   "metadata": {},
   "outputs": [
    {
     "name": "stdout",
     "output_type": "stream",
     "text": [
      "1.29 ms ± 30.5 µs per loop (mean ± std. dev. of 7 runs, 1000 loops each)\n"
     ]
    }
   ],
   "source": [
    "%timeit assets = df.eval('property_value + other_assets')"
   ]
  },
  {
   "cell_type": "code",
   "execution_count": 44,
   "metadata": {},
   "outputs": [
    {
     "name": "stdout",
     "output_type": "stream",
     "text": [
      "21.1 µs ± 191 ns per loop (mean ± std. dev. of 7 runs, 10000 loops each)\n"
     ]
    }
   ],
   "source": [
    "pd.set_option('compute.use_numexp', False)\n",
    "pd.set_option('compute.use_bottleneck', False)\n",
    "%timeit assets = df['property_value'].values + df['other_assets'].values"
   ]
  },
  {
   "cell_type": "code",
   "execution_count": 45,
   "metadata": {},
   "outputs": [
    {
     "name": "stdout",
     "output_type": "stream",
     "text": [
      "The slowest run took 5.90 times longer than the fastest. This could mean that an intermediate result is being cached.\n",
      "30 µs ± 20.7 µs per loop (mean ± std. dev. of 50 runs, 1 loop each)\n"
     ]
    }
   ],
   "source": [
    "pd.set_option('compute.use_numexp', True)\n",
    "pd.set_option('compute.use_bottleneck', False)\n",
    "%timeit -n 1 -r 50 assets = df['property_value'].values + df['other_assets'].values"
   ]
  },
  {
   "cell_type": "code",
   "execution_count": 46,
   "metadata": {},
   "outputs": [
    {
     "name": "stdout",
     "output_type": "stream",
     "text": [
      "21.4 µs ± 220 ns per loop (mean ± std. dev. of 7 runs, 10000 loops each)\n"
     ]
    }
   ],
   "source": [
    "pd.set_option('compute.use_numexp', False)\n",
    "pd.set_option('compute.use_bottleneck',True)\n",
    "%timeit assets = df['property_value'].values + df['other_assets'].values"
   ]
  },
  {
   "cell_type": "code",
   "execution_count": 47,
   "metadata": {},
   "outputs": [
    {
     "name": "stdout",
     "output_type": "stream",
     "text": [
      "21.6 µs ± 277 ns per loop (mean ± std. dev. of 7 runs, 10000 loops each)\n"
     ]
    }
   ],
   "source": [
    "pd.set_option('compute.use_numexp', True)\n",
    "pd.set_option('compute.use_bottleneck', True)\n",
    "%timeit assets = df['property_value'].values + df['other_assets'].values"
   ]
  },
  {
   "cell_type": "markdown",
   "metadata": {
    "slideshow": {
     "slide_type": "slide"
    }
   },
   "source": [
    "---\n",
    "<h2>Example 4: Column operations on strings</h2>"
   ]
  },
  {
   "cell_type": "code",
   "execution_count": 48,
   "metadata": {},
   "outputs": [
    {
     "name": "stdout",
     "output_type": "stream",
     "text": [
      "10.5 ms ± 55.8 µs per loop (mean ± std. dev. of 7 runs, 100 loops each)\n",
      "The slowest run took 4.56 times longer than the fastest. This could mean that an intermediate result is being cached.\n",
      "7.75 ms ± 5.55 ms per loop (mean ± std. dev. of 7 runs, 100 loops each)\n"
     ]
    }
   ],
   "source": [
    "%timeit df['school_university_name'].apply(lambda x: '' if pd.isnull(x) else x.upper())\n",
    "%timeit df['school_university_name'].str.upper()"
   ]
  },
  {
   "cell_type": "markdown",
   "metadata": {},
   "source": [
    "---"
   ]
  },
  {
   "cell_type": "code",
   "execution_count": 49,
   "metadata": {},
   "outputs": [],
   "source": [
    "df['school_university_name'].fillna('', inplace=True)\n",
    "df['school_type'].fillna('', inplace=True)"
   ]
  },
  {
   "cell_type": "code",
   "execution_count": 50,
   "metadata": {},
   "outputs": [
    {
     "name": "stdout",
     "output_type": "stream",
     "text": [
      "1.34 s ± 287 ms per loop (mean ± std. dev. of 7 runs, 1 loop each)\n"
     ]
    }
   ],
   "source": [
    "%timeit a = [row['school_university_name']+'_'+row['school_type'] for ii, row in df.iterrows()]"
   ]
  },
  {
   "cell_type": "code",
   "execution_count": 51,
   "metadata": {},
   "outputs": [
    {
     "name": "stdout",
     "output_type": "stream",
     "text": [
      "390 ms ± 13.5 ms per loop (mean ± std. dev. of 7 runs, 1 loop each)\n",
      "15.5 ms ± 1.91 ms per loop (mean ± std. dev. of 7 runs, 100 loops each)\n",
      "4.92 ms ± 230 µs per loop (mean ± std. dev. of 7 runs, 100 loops each)\n",
      "2.05 ms ± 221 µs per loop (mean ± std. dev. of 7 runs, 1000 loops each)\n"
     ]
    }
   ],
   "source": [
    "%timeit df.apply(lambda x: x['school_university_name']+'_'+x['school_type'], axis=1)\n",
    "%timeit df[['school_university_name', 'school_type']].sum(axis=1)\n",
    "%timeit df['school_university_name'].str.cat(df['school_type'])\n",
    "%timeit df['school_university_name']+'_'+df['school_type']"
   ]
  },
  {
   "cell_type": "markdown",
   "metadata": {
    "slideshow": {
     "slide_type": "slide"
    }
   },
   "source": [
    "---\n",
    "<h2>Example 5: Function of several columns</h2>"
   ]
  },
  {
   "cell_type": "code",
   "execution_count": 52,
   "metadata": {
    "slideshow": {
     "slide_type": "-"
    }
   },
   "outputs": [],
   "source": [
    "def net_asset_salary_ratio(prop, prop_rate, assets, assets_rate, liabilities, liabilities_rate, salary, salary_rate):\n",
    "    net_position = prop*prop_rate + assets*assets_rate - liabilities*liabilities_rate\n",
    "    return net_position / (salary*salary_rate)"
   ]
  },
  {
   "cell_type": "code",
   "execution_count": 53,
   "metadata": {},
   "outputs": [
    {
     "name": "stdout",
     "output_type": "stream",
     "text": [
      "2.11 s ± 134 ms per loop (mean ± std. dev. of 5 runs, 1 loop each)\n"
     ]
    }
   ],
   "source": [
    "%%timeit -n 1 -r 5\n",
    "asset_to_salary_1 = []\n",
    "for ii, row in df.iterrows():\n",
    "    a = net_asset_salary_ratio(\n",
    "        row['property_value'], row['property_value_gbp_rate'], row['other_assets'], row['other_assets_gbp_rate'],\n",
    "        row['total_liabilities_in_base_currency'], row['default_gbp_rate'], row['average_3_month_salary'],\n",
    "        row['average_3_month_salary_gbp_rate']\n",
    "    )\n",
    "    asset_to_salary_1.append(a)"
   ]
  },
  {
   "cell_type": "code",
   "execution_count": 54,
   "metadata": {},
   "outputs": [
    {
     "name": "stdout",
     "output_type": "stream",
     "text": [
      "2 s ± 157 ms per loop (mean ± std. dev. of 5 runs, 1 loop each)\n"
     ]
    }
   ],
   "source": [
    "%%timeit -n 1 -r 5\n",
    "asset_to_salary = []\n",
    "for i in range(0, len(df)):\n",
    "    a = net_asset_salary_ratio(\n",
    "        df['property_value'].iloc[i], df['property_value_gbp_rate'].iloc[i], df['other_assets'].iloc[i],\n",
    "        df['other_assets_gbp_rate'].iloc[i], df['total_liabilities_in_base_currency'].iloc[i],\n",
    "        df['default_gbp_rate'].iloc[i], df['average_3_month_salary'].iloc[i],\n",
    "        df['average_3_month_salary_gbp_rate'].iloc[i]\n",
    "    )\n",
    "    asset_to_salary.append(a)"
   ]
  },
  {
   "cell_type": "code",
   "execution_count": 55,
   "metadata": {},
   "outputs": [
    {
     "name": "stdout",
     "output_type": "stream",
     "text": [
      "1.2 s ± 51.3 ms per loop (mean ± std. dev. of 5 runs, 1 loop each)\n"
     ]
    }
   ],
   "source": [
    "%%timeit -n 1 -r 5\n",
    "asset_to_salary = df.apply(lambda row: net_asset_salary_ratio(\n",
    "        row['property_value'], row['property_value_gbp_rate'], row['other_assets'], row['other_assets_gbp_rate'],\n",
    "        row['total_liabilities_in_base_currency'], row['default_gbp_rate'], row['average_3_month_salary'],\n",
    "        row['average_3_month_salary_gbp_rate']\n",
    "), axis=1)"
   ]
  },
  {
   "cell_type": "code",
   "execution_count": 56,
   "metadata": {
    "slideshow": {
     "slide_type": "slide"
    }
   },
   "outputs": [
    {
     "name": "stdout",
     "output_type": "stream",
     "text": [
      "2.72 ms ± 317 µs per loop (mean ± std. dev. of 50 runs, 1 loop each)\n"
     ]
    }
   ],
   "source": [
    "%%timeit -n 1 -r 50\n",
    "asset_to_salary = df.eval(\n",
    "    '(property_value*property_value_gbp_rate + other_assets*other_assets_gbp_rate - \\\n",
    "    total_liabilities_in_base_currency*default_gbp_rate) / (average_3_month_salary*average_3_month_salary_gbp_rate)',\n",
    "    parser='pandas', engine='numexpr'\n",
    ")"
   ]
  },
  {
   "cell_type": "code",
   "execution_count": 57,
   "metadata": {},
   "outputs": [
    {
     "name": "stdout",
     "output_type": "stream",
     "text": [
      "1.51 ms ± 591 µs per loop (mean ± std. dev. of 5 runs, 1 loop each)\n"
     ]
    }
   ],
   "source": [
    "%%timeit -n 1 -r 5\n",
    "\n",
    "asset_to_salary = net_asset_salary_ratio(\n",
    "    df['property_value'], df['property_value_gbp_rate'], df['other_assets'], df['other_assets_gbp_rate'],\n",
    "    df['total_liabilities_in_base_currency'], df['default_gbp_rate'], df['average_3_month_salary'],\n",
    "    df['average_3_month_salary_gbp_rate']\n",
    ")"
   ]
  },
  {
   "cell_type": "code",
   "execution_count": 58,
   "metadata": {},
   "outputs": [
    {
     "name": "stdout",
     "output_type": "stream",
     "text": [
      "227 µs ± 75.1 µs per loop (mean ± std. dev. of 5 runs, 1 loop each)\n"
     ]
    }
   ],
   "source": [
    "%%timeit -n 1 -r 5\n",
    "\n",
    "asset_to_salary = net_asset_salary_ratio(\n",
    "    df['property_value'].values, df['property_value_gbp_rate'].values,\n",
    "    df['other_assets'].values, df['other_assets_gbp_rate'].values, df['total_liabilities_in_base_currency'].values,\n",
    "    df['default_gbp_rate'].values, df['average_3_month_salary'].values,\n",
    "    df['average_3_month_salary_gbp_rate'].values\n",
    ")"
   ]
  },
  {
   "cell_type": "markdown",
   "metadata": {},
   "source": [
    "<h2> 2s to 200 microseconds = 10E4 speed up! </h2>"
   ]
  },
  {
   "cell_type": "markdown",
   "metadata": {
    "slideshow": {
     "slide_type": "slide"
    }
   },
   "source": [
    "---\n",
    "<h2>Example 5: Line profiling</h2>"
   ]
  },
  {
   "cell_type": "markdown",
   "metadata": {
    "slideshow": {
     "slide_type": "skip"
    }
   },
   "source": [
    "Note: I added the lprn output from my run in separate markdown blocks, as the lprun output appears in a pop up window that may not have worked during the presentation. Your output will differ, but the overall comparison between the three runs should have the same form: 20000 hits for df.apply, 1 hit for the other two, and fastest time for the last run where we take .values"
   ]
  },
  {
   "cell_type": "code",
   "execution_count": 59,
   "metadata": {
    "slideshow": {
     "slide_type": "-"
    }
   },
   "outputs": [],
   "source": [
    "%lprun -f net_asset_salary_ratio asset_to_salary = df.apply(lambda row: net_asset_salary_ratio(row['property_value'], row['property_value_gbp_rate'], row['other_assets'], row['other_assets_gbp_rate'], row['total_liabilities_in_base_currency'], row['default_gbp_rate'], row['average_3_month_salary'], row['average_3_month_salary_gbp_rate']), axis=1)"
   ]
  },
  {
   "cell_type": "markdown",
   "metadata": {},
   "source": [
    "```\n",
    "Timer unit: 1e-06 s\n",
    "\n",
    "Total time: 0.025267 s\n",
    "File: <ipython-input-62-f9033797a7f1>\n",
    "Function: net_asset_salary_ratio at line 1\n",
    "\n",
    "Line #      Hits         Time  Per Hit   % Time  Line Contents\n",
    "==============================================================\n",
    "     1                                           def net_asset_salary_ratio(prop, prop_rate, assets, assets_rate, liabilities, liabilities_rate, salary, salary_rate):\n",
    "     2     20000        15930      0.8     63.0      net_position = prop*prop_rate + assets*assets_rate - liabilities*liabilities_rate\n",
    "     3     20000         9337      0.5     37.0      return net_position / (salary*salary_rate)\n",
    "```"
   ]
  },
  {
   "cell_type": "code",
   "execution_count": 60,
   "metadata": {},
   "outputs": [],
   "source": [
    "%lprun -f net_asset_salary_ratio asset_to_salary = net_asset_salary_ratio(df['property_value'], df['property_value_gbp_rate'], df['other_assets'], df['other_assets_gbp_rate'],df['total_liabilities_in_base_currency'], df['default_gbp_rate'], df['average_3_month_salary'],df['average_3_month_salary_gbp_rate'])"
   ]
  },
  {
   "cell_type": "markdown",
   "metadata": {},
   "source": [
    "```\n",
    "Timer unit: 1e-06 s\n",
    "\n",
    "Total time: 0.003366 s\n",
    "File: <ipython-input-62-f9033797a7f1>\n",
    "Function: net_asset_salary_ratio at line 1\n",
    "\n",
    "Line #      Hits         Time  Per Hit   % Time  Line Contents\n",
    "==============================================================\n",
    "     1                                           def net_asset_salary_ratio(prop, prop_rate, assets, assets_rate, liabilities, liabilities_rate, salary, salary_rate):\n",
    "     2         1         2417   2417.0     71.8      net_position = prop*prop_rate + assets*assets_rate - liabilities*liabilities_rate\n",
    "     3         1          949    949.0     28.2      return net_position / (salary*salary_rate)\n",
    "```"
   ]
  },
  {
   "cell_type": "code",
   "execution_count": 61,
   "metadata": {},
   "outputs": [],
   "source": [
    "%lprun -f net_asset_salary_ratio asset_to_salary = net_asset_salary_ratio(df['property_value'].values, df['property_value_gbp_rate'].values,df['other_assets'].values, df['other_assets_gbp_rate'].values, df['total_liabilities_in_base_currency'].values,df['default_gbp_rate'].values, df['average_3_month_salary'].values,df['average_3_month_salary_gbp_rate'].values)"
   ]
  },
  {
   "cell_type": "markdown",
   "metadata": {},
   "source": [
    "```\n",
    "Timer unit: 1e-06 s\n",
    "\n",
    "Total time: 0.000514 s\n",
    "File: <ipython-input-62-f9033797a7f1>\n",
    "Function: net_asset_salary_ratio at line 1\n",
    "\n",
    "Line #      Hits         Time  Per Hit   % Time  Line Contents\n",
    "==============================================================\n",
    "     1                                           def net_asset_salary_ratio(prop, prop_rate, assets, assets_rate, liabilities, liabilities_rate, salary, salary_rate):\n",
    "     2         1          437    437.0     85.0      net_position = prop*prop_rate + assets*assets_rate - liabilities*liabilities_rate\n",
    "     3         1           77     77.0     15.0      return net_position / (salary*salary_rate)\n",
    "```"
   ]
  },
  {
   "cell_type": "markdown",
   "metadata": {
    "slideshow": {
     "slide_type": "slide"
    }
   },
   "source": [
    "---\n",
    "<h2>Example 6: If</h2>"
   ]
  },
  {
   "cell_type": "code",
   "execution_count": 62,
   "metadata": {},
   "outputs": [
    {
     "name": "stdout",
     "output_type": "stream",
     "text": [
      "7.54 ms ± 3.82 ms per loop (mean ± std. dev. of 7 runs, 100 loops each)\n",
      "728 µs ± 111 µs per loop (mean ± std. dev. of 7 runs, 1000 loops each)\n"
     ]
    },
    {
     "name": "stderr",
     "output_type": "stream",
     "text": [
      "/usr/local/lib/python3.5/dist-packages/ipykernel_launcher.py:257: RuntimeWarning: invalid value encountered in greater_equal\n"
     ]
    },
    {
     "name": "stdout",
     "output_type": "stream",
     "text": [
      "107 µs ± 26.6 µs per loop (mean ± std. dev. of 7 runs, 10000 loops each)\n"
     ]
    }
   ],
   "source": [
    "%timeit thresholded = df['average_3_month_salary'].apply(lambda x: np.nan if x < 2000 else x).values\n",
    "%timeit thresholded = df['average_3_month_salary'].where(df['average_3_month_salary'] >= 2000).values\n",
    "%timeit thresholded = np.where(df['average_3_month_salary'].values >= 2000, df['average_3_month_salary'].values, np.nan)"
   ]
  },
  {
   "cell_type": "markdown",
   "metadata": {
    "slideshow": {
     "slide_type": "slide"
    }
   },
   "source": [
    "---\n",
    "<h1>Take homes</h1>"
   ]
  },
  {
   "cell_type": "markdown",
   "metadata": {},
   "source": [
    "\n",
    "<h2> 1) NumPy! </h2>\n",
    "<br>\n",
    "<h2> 2) Use Pandas builtins </h2>\n",
    "<br>\n",
    "<h2> 3) Vectorise! </h2>\n",
    "<br>\n",
    "<h2> 4) iteritems / iterrows is for special occassions!\n",
    " - Avoid loops, but where you absolutely have to use loops, use .apply </h2>\n",
    "<br>\n",
    "<h2> 5) Use performance optimisers (numexpr, bottleneck) </h2>\n",
    "<br>\n",
    "<h2> 6) Look under the hood! \n",
    " - Covenient profiling tools </h2>\n",
    "<br>\n",
    "<h2> 7) If you need, more sophisticated optimisation mechanisms do exist (cython, numba) </h2>"
   ]
  },
  {
   "cell_type": "markdown",
   "metadata": {
    "slideshow": {
     "slide_type": "slide"
    }
   },
   "source": [
    "<h1><center>Using Pandas thoughtfully can give 100x or more speed ups!</center></h1>"
   ]
  },
  {
   "cell_type": "markdown",
   "metadata": {
    "slideshow": {
     "slide_type": "slide"
    }
   },
   "source": [
    "---\n",
    "<h2>Resources</h2>\n",
    "\n",
    "Pandas and Dask from the Inside, Stephen Simmons <br>\n",
    "Berlin, PyData 2017 <br>\n",
    "https://github.com/stevesimmons/pydata-berlin2017-pandas-and-dask-from-the-inside <br>\n",
    "https://www.youtube.com/watch?v=YGk09nK_xnM\n",
    "\n",
    "<br>\n",
    "No More Sad Pandas: Optimizing Pandas Code for Speed and Efficiency, Sofia Heisler <br>\n",
    "Portland Oregon, PyCon 2017 <br>\n",
    "https://github.com/sversh/pycon2017-optimizing-pandas <br>\n",
    "https://www.youtube.com/watch?v=HN5d490_KKk <br>\n",
    "https://engineering.upside.com/a-beginners-guide-to-optimizing-pandas-code-for-speed-c09ef2c6a4d6\n",
    "\n",
    "<br>\n",
    "Performance Pandas, Jeff Reback <br>\n",
    "London, PyData 2015 <br>\n",
    "https://www.youtube.com/watch?v=xUBoPK6FGIU\n",
    "https://github.com/jreback/pydata2015-london"
   ]
  },
  {
   "cell_type": "code",
   "execution_count": null,
   "metadata": {
    "slideshow": {
     "slide_type": "slide"
    }
   },
   "outputs": [],
   "source": []
  }
 ],
 "metadata": {
  "celltoolbar": "Slideshow",
  "kernelspec": {
   "display_name": "Python 3",
   "language": "python",
   "name": "python3"
  },
  "language_info": {
   "codemirror_mode": {
    "name": "ipython",
    "version": 3
   },
   "file_extension": ".py",
   "mimetype": "text/x-python",
   "name": "python",
   "nbconvert_exporter": "python",
   "pygments_lexer": "ipython3",
   "version": "3.5.2+"
  }
 },
 "nbformat": 4,
 "nbformat_minor": 2
}
